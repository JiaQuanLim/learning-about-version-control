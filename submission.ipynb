{
 "cells": [
  {
   "cell_type": "markdown",
   "id": "9be38ab1-b364-4378-979c-836e9b3d5c85",
   "metadata": {},
   "source": [
    "# DSCI522 Individual Assignment 1\n",
    "\n",
    "**Student ID:** 50266451\n",
    "\n",
    "**Commit History of GitHub Repository:** https://github.com/JiaQuanLim/learning-about-version-control/commits/main/\n"
   ]
  },
  {
   "cell_type": "markdown",
   "id": "830e3f4b-9ae5-488c-b038-ff862e9edeb7",
   "metadata": {},
   "source": [
    "## Screenshots of resolved merge conflict\n",
    "\n",
    "![alt text](img/ss1.png)\n",
    "![alt text](img/ss2.png)\n",
    "![alt text](img/ss3.png)\n",
    "![alt text](img/ss4.png)\n",
    "![alt text](img/ss5.png)"
   ]
  },
  {
   "cell_type": "markdown",
   "id": "634c2d86-1886-4c3b-bc29-a475ec30d58f",
   "metadata": {},
   "source": [
    "Working in a branch-pull-request workflow is beneficial because it helps to maintain the main branch by allowing changes to be reviewed and tested separately before merging. This process promotes better collaboration as team members can provide feedback, catch potential issues, and ensure that the code works which in return reduces the risk of introducing errors directly into the main code base."
   ]
  },
  {
   "cell_type": "code",
   "execution_count": null,
   "id": "65bf402f-45d3-47fc-9d30-f4bb198b63d7",
   "metadata": {},
   "outputs": [],
   "source": []
  }
 ],
 "metadata": {
  "kernelspec": {
   "display_name": "Python 3 (ipykernel)",
   "language": "python",
   "name": "python3"
  },
  "language_info": {
   "codemirror_mode": {
    "name": "ipython",
    "version": 3
   },
   "file_extension": ".py",
   "mimetype": "text/x-python",
   "name": "python",
   "nbconvert_exporter": "python",
   "pygments_lexer": "ipython3",
   "version": "3.11.9"
  }
 },
 "nbformat": 4,
 "nbformat_minor": 5
}
